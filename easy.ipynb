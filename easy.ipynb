{
 "cells": [
  {
   "cell_type": "code",
   "execution_count": 36,
   "id": "7bd53bc1-3a8c-45a8-b7c2-c585336e8a51",
   "metadata": {},
   "outputs": [
    {
     "name": "stdout",
     "output_type": "stream",
     "text": [
      "1\n",
      "8\n",
      "111\n",
      "1\n",
      "3 1\n",
      "<class 'bool'>\n"
     ]
    }
   ],
   "source": [
    "print(10%3)\n",
    "print(2**3)\n",
    "print(abs(-111))\n",
    "print(round(1.22))\n",
    "# 恢复内置的 max 函数\n",
    "max = __builtins__.max\n",
    "# 恢复内置的 min 函数\n",
    "min = __builtins__.min\n",
    "print(max(1,2,3),min(1,2,4,6))\n",
    "print(type(True))"
   ]
  },
  {
   "cell_type": "code",
   "execution_count": 151,
   "id": "5c245413-e8ae-485f-9dce-e52db583b568",
   "metadata": {},
   "outputs": [
    {
     "name": "stdout",
     "output_type": "stream",
     "text": [
      "['1', '2', '3', '4', '5']\n",
      "['1', '2', '3', '4', '5,4,56,']\n",
      "['1 2 3 4 5', '4', '56', '']\n"
     ]
    }
   ],
   "source": [
    "str = '1 2 3 4 5'\n",
    "print(str.split())\n",
    "str = '1 2 3 4 5,4,56,'\n",
    "print(str.split())\n",
    "print(str.split(','))"
   ]
  },
  {
   "cell_type": "raw",
   "id": "e14ab679-2ed6-40dc-8ffc-f050ec55c065",
   "metadata": {},
   "source": [
    "Python 中，join() 是字符串的一个方法，用于将一个可迭代对象（如列表、元组等）中的元素连接成一个字符串。\n",
    "string.join(iterable)\n",
    "string 是一个字符串，它作为连接符，用来连接 iterable 中的元素；\n",
    "iterable 是一个可迭代对象，其中的元素必须都是字符串，或者可以被隐式转换为字符串 ，比如列表、元组、集合等。"
   ]
  },
  {
   "cell_type": "code",
   "execution_count": 152,
   "id": "9063068e-0a23-4eae-a0e4-b434aabed07e",
   "metadata": {},
   "outputs": [
    {
     "name": "stdout",
     "output_type": "stream",
     "text": [
      "k1 2 3 4 51\n",
      "k1 2 3 4 5k1 2 3 4 5k1 2 3 4 5k\n",
      "['1', '2', '3', '4', '5']\n",
      "1kkk2kkk3kkk4kkk5\n"
     ]
    }
   ],
   "source": [
    "str = '1 2 3 4 5'\n",
    "print(str.join('k1'))\n",
    "print(str.join('kkkk'))\n",
    "li = str.split(' ')\n",
    "print(li)\n",
    "print(\"kkk\".join(li))"
   ]
  },
  {
   "cell_type": "code",
   "execution_count": 160,
   "id": "4005c38a-6e14-4c32-85e7-59bf27d8c351",
   "metadata": {},
   "outputs": [
    {
     "name": "stdout",
     "output_type": "stream",
     "text": [
      "hello lebron\n",
      "hello kobe\n",
      "hello kobe\n",
      "HELLO KOBE\n",
      "hello kobe\n"
     ]
    }
   ],
   "source": [
    "str = 'hello kobe'\n",
    "print(str.replace('kobe','lebron'))\n",
    "print(str)\n",
    "print(str.replace('lebron','kobe')) # useless parameter\n",
    "print(str.upper())\n",
    "print(str.lower())"
   ]
  },
  {
   "cell_type": "code",
   "execution_count": 164,
   "id": "918d64ad-851b-4e07-bd4f-44c63c818bf4",
   "metadata": {},
   "outputs": [
    {
     "name": "stdout",
     "output_type": "stream",
     "text": [
      "     ssss     \n",
      "ssss\n",
      "ssss     \n",
      "     ssss\n"
     ]
    }
   ],
   "source": [
    "str = '     ssss     '\n",
    "print(str)\n",
    "print(str.strip())\n",
    "print(str.lstrip())\n",
    "print(str.rstrip())"
   ]
  },
  {
   "cell_type": "code",
   "execution_count": 171,
   "id": "bce02433-3b48-4d40-baac-014bcb0ad97c",
   "metadata": {},
   "outputs": [
    {
     "name": "stdout",
     "output_type": "stream",
     "text": [
      "12s\n",
      "333,333,222\n",
      "1,3,1\n",
      "ssstr 12.200000 333\n"
     ]
    }
   ],
   "source": [
    "print('{}{}{}'.format('1','2','s'))\n",
    "print('{2},{2},{1}'.format('111','222','333'))\n",
    "print('{one},{three},{one}'.format(one=1,teo=2,three=3))\n",
    "print('%s %f %d'%('ssstr',12.2,333))"
   ]
  },
  {
   "cell_type": "code",
   "execution_count": 178,
   "id": "b6d15b3d-adb8-48c5-bde4-bcda89d768d0",
   "metadata": {},
   "outputs": [
    {
     "name": "stdout",
     "output_type": "stream",
     "text": [
      "kobe lebro\n",
      "n curry jordan\n",
      "kobe lebron curr\n",
      "dan\n",
      "kobe lebron curry jordan\n",
      "kb erncryjra\n"
     ]
    }
   ],
   "source": [
    "str = 'kobe lebron curry jordan'\n",
    "print(str[0:10])\n",
    "print(str[10:])\n",
    "print(str[0:-8])\n",
    "print(str[-3:])\n",
    "print(str[:])\n",
    "print(str[::2])"
   ]
  },
  {
   "cell_type": "code",
   "execution_count": 28,
   "id": "698aff63-094f-41f7-8d6f-a3b37faae10e",
   "metadata": {},
   "outputs": [
    {
     "name": "stdout",
     "output_type": "stream",
     "text": [
      "10 11 12 13 14 15 16 17 18 19 20 21 22 23 24 25 26 27 28 29 30 31 32 33 34 35 36 37 38 39 40 41 42 43 44 45 46 47 48 49 50 51 52 53 54 55 56 57 58 59 60 61 62 63 64 65 66 67 68 69 70 71 72 73 74 75 76 77 78 79 80 81 82 83 84 85 86 87 88 89 90 91 92 93 94 95 96 97 98 99 "
     ]
    }
   ],
   "source": [
    "for x in range(10,100,1):\n",
    "    print(x,end=' ' )"
   ]
  },
  {
   "cell_type": "markdown",
   "id": "919e220c-e174-41dd-8961-bc1eb1e7ab36",
   "metadata": {},
   "source": [
    "猜数字"
   ]
  },
  {
   "cell_type": "code",
   "execution_count": 29,
   "id": "cce1f526-91f3-4da0-8a6d-8d7e8d86fd5e",
   "metadata": {},
   "outputs": [
    {
     "ename": "KeyboardInterrupt",
     "evalue": "Interrupted by user",
     "output_type": "error",
     "traceback": [
      "\u001b[0;31m---------------------------------------------------------------------------\u001b[0m",
      "\u001b[0;31mKeyboardInterrupt\u001b[0m                         Traceback (most recent call last)",
      "Cell \u001b[0;32mIn[29], line 5\u001b[0m\n\u001b[1;32m      3\u001b[0m times \u001b[38;5;241m=\u001b[39m \u001b[38;5;241m0\u001b[39m\n\u001b[1;32m      4\u001b[0m \u001b[38;5;28;01mwhile\u001b[39;00m(\u001b[38;5;28;01mTrue\u001b[39;00m):\n\u001b[0;32m----> 5\u001b[0m     num \u001b[38;5;241m=\u001b[39m \u001b[38;5;28mint\u001b[39m(\u001b[38;5;28;43minput\u001b[39;49m\u001b[43m(\u001b[49m\u001b[38;5;124;43m'\u001b[39;49m\u001b[38;5;124;43mnum(1,100):\u001b[39;49m\u001b[38;5;124;43m'\u001b[39;49m\u001b[43m)\u001b[49m)\n\u001b[1;32m      6\u001b[0m     \u001b[38;5;28;01mif\u001b[39;00m(target\u001b[38;5;241m==\u001b[39mnum):\n\u001b[1;32m      7\u001b[0m         \u001b[38;5;28mprint\u001b[39m(\u001b[38;5;124m'\u001b[39m\u001b[38;5;124mbingo,times = \u001b[39m\u001b[38;5;132;01m%d\u001b[39;00m\u001b[38;5;124m'\u001b[39m\u001b[38;5;241m%\u001b[39mtimes)\n",
      "File \u001b[0;32m~/anaconda3/envs/basic/lib/python3.8/site-packages/ipykernel/kernelbase.py:1282\u001b[0m, in \u001b[0;36mKernel.raw_input\u001b[0;34m(self, prompt)\u001b[0m\n\u001b[1;32m   1280\u001b[0m     msg \u001b[38;5;241m=\u001b[39m \u001b[38;5;124m\"\u001b[39m\u001b[38;5;124mraw_input was called, but this frontend does not support input requests.\u001b[39m\u001b[38;5;124m\"\u001b[39m\n\u001b[1;32m   1281\u001b[0m     \u001b[38;5;28;01mraise\u001b[39;00m StdinNotImplementedError(msg)\n\u001b[0;32m-> 1282\u001b[0m \u001b[38;5;28;01mreturn\u001b[39;00m \u001b[38;5;28;43mself\u001b[39;49m\u001b[38;5;241;43m.\u001b[39;49m\u001b[43m_input_request\u001b[49m\u001b[43m(\u001b[49m\n\u001b[1;32m   1283\u001b[0m \u001b[43m    \u001b[49m\u001b[38;5;28;43mstr\u001b[39;49m\u001b[43m(\u001b[49m\u001b[43mprompt\u001b[49m\u001b[43m)\u001b[49m\u001b[43m,\u001b[49m\n\u001b[1;32m   1284\u001b[0m \u001b[43m    \u001b[49m\u001b[38;5;28;43mself\u001b[39;49m\u001b[38;5;241;43m.\u001b[39;49m\u001b[43m_parent_ident\u001b[49m\u001b[43m[\u001b[49m\u001b[38;5;124;43m\"\u001b[39;49m\u001b[38;5;124;43mshell\u001b[39;49m\u001b[38;5;124;43m\"\u001b[39;49m\u001b[43m]\u001b[49m\u001b[43m,\u001b[49m\n\u001b[1;32m   1285\u001b[0m \u001b[43m    \u001b[49m\u001b[38;5;28;43mself\u001b[39;49m\u001b[38;5;241;43m.\u001b[39;49m\u001b[43mget_parent\u001b[49m\u001b[43m(\u001b[49m\u001b[38;5;124;43m\"\u001b[39;49m\u001b[38;5;124;43mshell\u001b[39;49m\u001b[38;5;124;43m\"\u001b[39;49m\u001b[43m)\u001b[49m\u001b[43m,\u001b[49m\n\u001b[1;32m   1286\u001b[0m \u001b[43m    \u001b[49m\u001b[43mpassword\u001b[49m\u001b[38;5;241;43m=\u001b[39;49m\u001b[38;5;28;43;01mFalse\u001b[39;49;00m\u001b[43m,\u001b[49m\n\u001b[1;32m   1287\u001b[0m \u001b[43m\u001b[49m\u001b[43m)\u001b[49m\n",
      "File \u001b[0;32m~/anaconda3/envs/basic/lib/python3.8/site-packages/ipykernel/kernelbase.py:1325\u001b[0m, in \u001b[0;36mKernel._input_request\u001b[0;34m(self, prompt, ident, parent, password)\u001b[0m\n\u001b[1;32m   1322\u001b[0m \u001b[38;5;28;01mexcept\u001b[39;00m \u001b[38;5;167;01mKeyboardInterrupt\u001b[39;00m:\n\u001b[1;32m   1323\u001b[0m     \u001b[38;5;66;03m# re-raise KeyboardInterrupt, to truncate traceback\u001b[39;00m\n\u001b[1;32m   1324\u001b[0m     msg \u001b[38;5;241m=\u001b[39m \u001b[38;5;124m\"\u001b[39m\u001b[38;5;124mInterrupted by user\u001b[39m\u001b[38;5;124m\"\u001b[39m\n\u001b[0;32m-> 1325\u001b[0m     \u001b[38;5;28;01mraise\u001b[39;00m \u001b[38;5;167;01mKeyboardInterrupt\u001b[39;00m(msg) \u001b[38;5;28;01mfrom\u001b[39;00m\u001b[38;5;250m \u001b[39m\u001b[38;5;28;01mNone\u001b[39;00m\n\u001b[1;32m   1326\u001b[0m \u001b[38;5;28;01mexcept\u001b[39;00m \u001b[38;5;167;01mException\u001b[39;00m:\n\u001b[1;32m   1327\u001b[0m     \u001b[38;5;28mself\u001b[39m\u001b[38;5;241m.\u001b[39mlog\u001b[38;5;241m.\u001b[39mwarning(\u001b[38;5;124m\"\u001b[39m\u001b[38;5;124mInvalid Message:\u001b[39m\u001b[38;5;124m\"\u001b[39m, exc_info\u001b[38;5;241m=\u001b[39m\u001b[38;5;28;01mTrue\u001b[39;00m)\n",
      "\u001b[0;31mKeyboardInterrupt\u001b[0m: Interrupted by user"
     ]
    }
   ],
   "source": [
    "import random\n",
    "target = random.randint(1,101)\n",
    "times = 0\n",
    "while(True):\n",
    "    num = int(input('num(1,100):'))\n",
    "    if(target==num):\n",
    "        print('bingo,times = %d'%times)\n",
    "        break;\n",
    "    elif(target>num):\n",
    "        print('you must guess higher')\n",
    "    else:\n",
    "        print('must guess lower')\n",
    "    times+=1\n",
    "    "
   ]
  },
  {
   "cell_type": "raw",
   "id": "2d393f18-3df9-4f5f-a4ec-7f0bfef59e94",
   "metadata": {},
   "source": [
    "9*9"
   ]
  },
  {
   "cell_type": "code",
   "execution_count": 35,
   "id": "a1a7eb4f-496b-4efa-bd04-f0c4950b6bc8",
   "metadata": {},
   "outputs": [
    {
     "name": "stdout",
     "output_type": "stream",
     "text": [
      "1*1=1\t\n",
      "2*1=2\t2*2=4\t\n",
      "3*1=3\t3*2=6\t3*3=9\t\n",
      "4*1=4\t4*2=8\t4*3=12\t4*4=16\t\n",
      "5*1=5\t5*2=10\t5*3=15\t5*4=20\t5*5=25\t\n",
      "6*1=6\t6*2=12\t6*3=18\t6*4=24\t6*5=30\t6*6=36\t\n",
      "7*1=7\t7*2=14\t7*3=21\t7*4=28\t7*5=35\t7*6=42\t7*7=49\t\n",
      "8*1=8\t8*2=16\t8*3=24\t8*4=32\t8*5=40\t8*6=48\t8*7=56\t8*8=64\t\n",
      "9*1=9\t9*2=18\t9*3=27\t9*4=36\t9*5=45\t9*6=54\t9*7=63\t9*8=72\t9*9=81\t\n"
     ]
    }
   ],
   "source": [
    "for x in range(1,10):\n",
    "    for y in range(1,x+1):\n",
    "        print(f'{x}*{y}={x * y}', end='\\t')\n",
    "        #print(x,'*',y,'=',x * y, end='  ')\n",
    "    print()"
   ]
  },
  {
   "cell_type": "code",
   "execution_count": 37,
   "id": "582dd8f1-667a-45bb-b4b0-d1d39ca47017",
   "metadata": {},
   "outputs": [
    {
     "name": "stdin",
     "output_type": "stream",
     "text": [
      "数字： 13\n"
     ]
    },
    {
     "name": "stdout",
     "output_type": "stream",
     "text": [
      "is prime\n"
     ]
    }
   ],
   "source": [
    "prime = int(input('数字：'))\n",
    "n = 2\n",
    "while n < math.sqrt(prime):\n",
    "    if(prime % n ==0):\n",
    "        print('not prime')\n",
    "    n+=1\n",
    "print('is prime')"
   ]
  },
  {
   "cell_type": "raw",
   "id": "9a022abe-1e19-4462-840b-e57030cae17c",
   "metadata": {},
   "source": [
    "输入两个正整数，计算它们的最大公约数和最小公倍数 \n",
    "python向下取整// \n",
    "向上取整 math.ceil(x * y / factor)"
   ]
  },
  {
   "cell_type": "code",
   "execution_count": 41,
   "id": "6f3ccc21-a9f9-43db-9072-a6f46b390f25",
   "metadata": {},
   "outputs": [
    {
     "name": "stdin",
     "output_type": "stream",
     "text": [
      " 5\n",
      " 10\n"
     ]
    },
    {
     "name": "stdout",
     "output_type": "stream",
     "text": [
      "5和10的最大公约数是5\n",
      "5和10的最小公倍数是10\n"
     ]
    }
   ],
   "source": [
    "x = int(input())\n",
    "y = int(input())\n",
    "for factor in range(x, 0, -1):\n",
    "    if x % factor == 0 and y % factor == 0:\n",
    "        print(f'{x}和{y}的最大公约数是{factor}')\n",
    "        print(f'{x}和{y}的最小公倍数是{x * y // factor}')\n",
    "        break"
   ]
  },
  {
   "cell_type": "raw",
   "id": "09933b05-07a6-45df-aade-d097508c627f",
   "metadata": {},
   "source": [
    "寻找水仙花数,输出100-999里的水仙花数\n",
    "它是一个3位数，该数字每个位上数字的立方之和正好等于它本身，例如：$ 153=1^3+5^3+3^3 $"
   ]
  },
  {
   "cell_type": "code",
   "execution_count": 48,
   "id": "4089c7b9-b760-4c3d-96e4-47ffd3f6dd4b",
   "metadata": {},
   "outputs": [
    {
     "name": "stdout",
     "output_type": "stream",
     "text": [
      "153 370 371 407 "
     ]
    }
   ],
   "source": [
    "for x in range(100,1000):\n",
    "    hundred = x // 100\n",
    "    ten = (x % 100)//10\n",
    "    one =  x  % 10\n",
    "    if hundred**3+ten**3+one**3 == x:\n",
    "        print(x,end=' ')"
   ]
  },
  {
   "cell_type": "code",
   "execution_count": 46,
   "id": "6effeea3-5326-4d7c-8b17-13edc3e818ba",
   "metadata": {},
   "outputs": [
    {
     "name": "stdout",
     "output_type": "stream",
     "text": [
      "9\n"
     ]
    }
   ],
   "source": [
    "print(972 // 100)"
   ]
  },
  {
   "cell_type": "raw",
   "id": "f0046e8c-bbc6-4445-bdc1-e227980020a7",
   "metadata": {},
   "source": [
    "百钱百鸡是我国古代数学家张丘建在《算经》一书中提出的数学问题：鸡翁一值钱五，鸡母一值钱三，鸡雏三值钱一。百钱买百鸡，问鸡翁、鸡母、鸡雏各几何？翻译成现代文是：公鸡5元一只，母鸡3元一只，小鸡1元三只，用100块钱买一百只鸡，问公鸡、母鸡、小鸡各有多少只？"
   ]
  },
  {
   "cell_type": "code",
   "execution_count": 49,
   "id": "7b263293-9586-4665-b771-052acc3a2e20",
   "metadata": {},
   "outputs": [
    {
     "name": "stdout",
     "output_type": "stream",
     "text": [
      "roosters:0,hen:25,chicks:75\n",
      "roosters:4,hen:18,chicks:78\n",
      "roosters:8,hen:11,chicks:81\n",
      "roosters:12,hen:4,chicks:84\n"
     ]
    }
   ],
   "source": [
    "# 3 roosters == 5 hen = 45 chicks = 15\n",
    "for roosters in range(0,20):\n",
    "    for hen in range(0,33):\n",
    "        for chicks in range(0,99,3):\n",
    "            if roosters*5+hen*3+chicks/3 == 100 and roosters+hen+chicks==100:\n",
    "                print(f'roosters:{roosters},hen:{hen},chicks:{chicks}')"
   ]
  },
  {
   "cell_type": "raw",
   "id": "af4d6d09-3107-4be7-9895-69d68b3078ce",
   "metadata": {},
   "source": [
    "输出斐波那契数列前20个数"
   ]
  },
  {
   "cell_type": "code",
   "execution_count": 2,
   "id": "bd5efb2b-f4f1-4b7e-bf5d-c63b865db583",
   "metadata": {},
   "outputs": [
    {
     "name": "stdout",
     "output_type": "stream",
     "text": [
      "1 1 2 3 5 8 13 21 34 55 89 144 233 377 610 987 1597 2584 4181 6765 "
     ]
    }
   ],
   "source": [
    "a = 0\n",
    "b = 1\n",
    "for _ in range(20):\n",
    "    a,b = b,a+b\n",
    "    print(a,end=' ')"
   ]
  },
  {
   "cell_type": "raw",
   "id": "6f110a21-695d-4078-8469-e25bfb8930b9",
   "metadata": {},
   "source": [
    "打印100以内的素数。第一个写的有问题"
   ]
  },
  {
   "cell_type": "code",
   "execution_count": 60,
   "id": "aa05a9a9-3b50-4c4b-be8f-e931f66ca64b",
   "metadata": {},
   "outputs": [
    {
     "name": "stdout",
     "output_type": "stream",
     "text": [
      "2 3 4 5 7 9 11 13 17 19 23 25 29 31 37 41 43 47 49 53 59 61 67 71 73 79 83 89 97 "
     ]
    }
   ],
   "source": [
    "for x in range(2,100):\n",
    "    isPrime = True\n",
    "    index=2\n",
    "    while(index<math.sqrt(x)):\n",
    "        if x % index == 0:\n",
    "            isPrime = False\n",
    "            break\n",
    "        index+=1\n",
    "    if(isPrime):\n",
    "        print(x,end=' ')"
   ]
  },
  {
   "cell_type": "code",
   "execution_count": 62,
   "id": "6303b0a1-875c-48b5-8d26-2ecafbc3f8d3",
   "metadata": {},
   "outputs": [
    {
     "name": "stdout",
     "output_type": "stream",
     "text": [
      "2 3 5 7 11 13 17 19 23 29 31 37 41 43 47 53 59 61 67 71 73 79 83 89 97 "
     ]
    }
   ],
   "source": [
    "for num in range(2, 100):\n",
    "    # 假设num是素数\n",
    "    is_prime = True\n",
    "    # 在2到num-1之间找num的因子\n",
    "    for factor in range(2, num):\n",
    "        # 如果找到了num的因子，num就不是素数\n",
    "        if num % factor == 0:\n",
    "            is_prime = False\n",
    "            break\n",
    "    # 如果布尔值为True在num是素数\n",
    "    if is_prime:\n",
    "        print(num,end=' ')"
   ]
  },
  {
   "cell_type": "raw",
   "id": "e2979aef-2e01-4fa6-8129-801f78f8cd4b",
   "metadata": {},
   "source": [
    "将一颗色子掷6000次，统计每个点数出现的次数"
   ]
  },
  {
   "cell_type": "code",
   "execution_count": 76,
   "id": "015273b9-b745-4d70-9e46-48f7499bab79",
   "metadata": {},
   "outputs": [
    {
     "name": "stdout",
     "output_type": "stream",
     "text": [
      "1:1010,2:996,3:1040,4:1017,5:956,6:981\n"
     ]
    }
   ],
   "source": [
    "import random\n",
    "arr = [0,0,0,0,0,0]\n",
    "for _ in range(1,6001):\n",
    "    arr[random.randint(1,6)-1]+=1;\n",
    "print(f'1:{arr[0]},2:{arr[1]},3:{arr[2]},4:{arr[3]},5:{arr[4]},6:{arr[5]}')"
   ]
  },
  {
   "cell_type": "code",
   "execution_count": 78,
   "id": "c02701e3-df9e-4d4f-92a1-e7fc2c8dca13",
   "metadata": {},
   "outputs": [
    {
     "name": "stdout",
     "output_type": "stream",
     "text": [
      "[0, 1, 2, 3, 4, 5, 6]\n",
      "['k', 'o', 'b', 'e']\n"
     ]
    }
   ],
   "source": [
    "arr = [0,0,0,0,0,0]\n",
    "arr = list(range(0,7))\n",
    "print(arr)\n",
    "arr = list('kobe')\n",
    "print(arr)"
   ]
  },
  {
   "cell_type": "code",
   "execution_count": 93,
   "id": "09cad05b-1b62-4cf3-b4da-a73116be25fc",
   "metadata": {},
   "outputs": [
    {
     "name": "stdout",
     "output_type": "stream",
     "text": [
      "[0, 1, 2, 3, 4, 5, 6, 7, 8, 9, 0, 1, 2, 3, 4]\n",
      "[0, 1, 2, 3, 4, 0, 1, 2, 3, 4, 0, 1, 2, 3, 4]\n",
      "False\n",
      "5\n",
      "0\n",
      "4\n",
      "[0, 1, 2, 3]\n",
      "[2, 3, 4]\n",
      "[9, 8, 7, 6, 5, 4]\n",
      "[9, 7, 5, 3, 1]\n",
      "False\n"
     ]
    }
   ],
   "source": [
    "it1 = list(range(10))\n",
    "it2 = list(range(5))\n",
    "print(it1+it2)\n",
    "print(it2*3)\n",
    "print(100 in it2)\n",
    "print(len(it2))\n",
    "print(it2[-len(it2)])\n",
    "print(it2[-1])\n",
    "print(it2[:4])\n",
    "print(it2[2:])\n",
    "print(it1[-1:-7:-1])\n",
    "print(it1[::-2])\n",
    "print(it1 <it2)"
   ]
  },
  {
   "cell_type": "code",
   "execution_count": 108,
   "id": "3ab7e317-cf48-44b1-8872-24c57c458ca8",
   "metadata": {},
   "outputs": [
    {
     "name": "stdout",
     "output_type": "stream",
     "text": [
      "['Python', 'Java', 'Go', 'Kotlin', 'kobe']\n",
      "['lerbon', 'Python', 'Java', 'Go', 'Kotlin', 'kobe']\n",
      "['lerbon', 'Python', 'Java', 'Kotlin', 'kobe']\n",
      "Kotlin ['lerbon', 'Python', 'Java', 'kobe']\n",
      "['lerbon', 'Python', 'Java']\n",
      "[]\n"
     ]
    }
   ],
   "source": [
    "it = ['Python', 'Java', 'Go', 'Kotlin']\n",
    "it.append('kobe')\n",
    "print(it)\n",
    "it.insert(0,'lerbon')\n",
    "print(it)\n",
    "it.remove('Go')\n",
    "print(it)\n",
    "print(it.pop(3),it) # pop会返回被删的元素 del不会\n",
    "del it[3]\n",
    "print(it)\n",
    "it.clear()\n",
    "print(it)"
   ]
  },
  {
   "cell_type": "code",
   "execution_count": 26,
   "id": "7e82df6d-1e4b-4d56-ae21-e92baaf5d04f",
   "metadata": {},
   "outputs": [
    {
     "name": "stdout",
     "output_type": "stream",
     "text": [
      "0\n",
      "5\n"
     ]
    },
    {
     "ename": "ValueError",
     "evalue": "'Java' is not in list",
     "output_type": "error",
     "traceback": [
      "\u001b[0;31m---------------------------------------------------------------------------\u001b[0m",
      "\u001b[0;31mValueError\u001b[0m                                Traceback (most recent call last)",
      "Cell \u001b[0;32mIn[26], line 4\u001b[0m\n\u001b[1;32m      2\u001b[0m \u001b[38;5;28mprint\u001b[39m(it\u001b[38;5;241m.\u001b[39mindex(\u001b[38;5;124m'\u001b[39m\u001b[38;5;124mPython\u001b[39m\u001b[38;5;124m'\u001b[39m))\n\u001b[1;32m      3\u001b[0m \u001b[38;5;28mprint\u001b[39m(it\u001b[38;5;241m.\u001b[39mindex(\u001b[38;5;124m'\u001b[39m\u001b[38;5;124mPython\u001b[39m\u001b[38;5;124m'\u001b[39m,\u001b[38;5;241m2\u001b[39m))\n\u001b[0;32m----> 4\u001b[0m \u001b[38;5;28mprint\u001b[39m(\u001b[43mit\u001b[49m\u001b[38;5;241;43m.\u001b[39;49m\u001b[43mindex\u001b[49m\u001b[43m(\u001b[49m\u001b[38;5;124;43m'\u001b[39;49m\u001b[38;5;124;43mJava\u001b[39;49m\u001b[38;5;124;43m'\u001b[39;49m\u001b[43m,\u001b[49m\u001b[38;5;241;43m3\u001b[39;49m\u001b[43m)\u001b[49m)\n",
      "\u001b[0;31mValueError\u001b[0m: 'Java' is not in list"
     ]
    }
   ],
   "source": [
    "it = ['Python', 'Java', 'Java', 'Go', 'Kotlin', 'Python']\n",
    "print(it.index('Python'))\n",
    "print(it.index('Python',2))\n",
    "print(it.index('Java',3))"
   ]
  },
  {
   "cell_type": "code",
   "execution_count": 5,
   "id": "03ebde23-a90a-4251-9bf9-d8280bc71fb2",
   "metadata": {},
   "outputs": [
    {
     "name": "stdout",
     "output_type": "stream",
     "text": [
      "2\n"
     ]
    }
   ],
   "source": [
    "it = ['Python', 'Java', 'Java', 'Go', 'Kotlin', 'Python']\n",
    "print(it.count('Java'))"
   ]
  },
  {
   "cell_type": "code",
   "execution_count": 12,
   "id": "675629f8-5d19-4141-acb0-ffef55ba14ac",
   "metadata": {},
   "outputs": [
    {
     "name": "stdout",
     "output_type": "stream",
     "text": [
      "None\n",
      "[1, 3, 4, 4, 12]\n",
      "[1, 3, 4, 4, 12]\n",
      "[1, 3, 12, 4, 4]\n",
      "None\n",
      "[4, 4, 12, 3, 1]\n"
     ]
    }
   ],
   "source": [
    "# list.sort() 方法是原地排序（直接修改原列表，不会返回新列表），所以它的返回值是 None。\n",
    "num = [1,3,12,4,4]\n",
    "print(num.sort())\n",
    "print(num)\n",
    "num = [1,3,12,4,4]\n",
    "# 用 sorted() 函数（不修改原列表，返回新列表）\n",
    "print(sorted(num))\n",
    "print(num)\n",
    "print(num.reverse())\n",
    "print(num)"
   ]
  },
  {
   "cell_type": "code",
   "execution_count": 13,
   "id": "eb66f7fe-1e08-4f56-bfa6-26cc510d65ea",
   "metadata": {},
   "outputs": [
    {
     "name": "stdout",
     "output_type": "stream",
     "text": [
      "['h', 'l', 'l', ' ', 'k', 'b', ' ', 'l', 'b', 'r', 'n', ' ', 'c', 'r', 'r', 'y', ' ']\n"
     ]
    }
   ],
   "source": [
    "# 创建一个由'hello world'中除空格和元音字母外的字符构成的列表\n",
    "it = []\n",
    "for x in 'hello kobe lebron curry ':\n",
    "    if x not in 'aoeiu':\n",
    "        it.append(x)\n",
    "print(it)"
   ]
  },
  {
   "cell_type": "code",
   "execution_count": 15,
   "id": "feebb3ff-6e7f-4767-a9b3-fc3c0fa5fe62",
   "metadata": {},
   "outputs": [
    {
     "name": "stdout",
     "output_type": "stream",
     "text": [
      "[0, 1, 2, 3, 4, 5, 6, 7, 8, 9]\n",
      "['h', 'l', 'l', ' ', 'k', 'b', ' ', 'l', 'b', 'r', 'n', ' ', 'c', 'r', 'r', 'y', ' ']\n"
     ]
    }
   ],
   "source": [
    "# 通过生成式创建列表。\n",
    "it = [x for x in range(10)]\n",
    "print(it)\n",
    "it = [x for x in 'hello kobe lebron curry ' if x not in 'aoeiu']\n",
    "print(it)"
   ]
  },
  {
   "cell_type": "code",
   "execution_count": 23,
   "id": "4ce68252-acd7-481c-88aa-6b50154081d2",
   "metadata": {},
   "outputs": [
    {
     "name": "stdout",
     "output_type": "stream",
     "text": [
      "[[0, 0, 22], [0, 0, 0], [0, 0, 0], [0, 0, 0], [0, 0, 0]]\n",
      "[0, 0, 0, 0]\n",
      "[[[0], [0], [0]], [[0], [0], [0]], [[0], [0], [0]], [[0], [0], [0]]]\n"
     ]
    }
   ],
   "source": [
    "# 嵌套的列表\n",
    "s = [[0]*3 for _ in range(5)]\n",
    "s[0][2]=22\n",
    "print(s)\n",
    "s = [0 for _ in range(4)]\n",
    "print(s)\n",
    "s = [[[0]]*3 for _ in range(4)]\n",
    "print(s)"
   ]
  },
  {
   "cell_type": "code",
   "execution_count": 25,
   "id": "e39705c5-82c8-4d91-a85c-e535501d3ec5",
   "metadata": {},
   "outputs": [
    {
     "name": "stdout",
     "output_type": "stream",
     "text": [
      "<class 'tuple'> <class 'int'> <class 'tuple'>\n"
     ]
    }
   ],
   "source": [
    "# ()表示空元组，但是如果元组中只有一个元素，需要加上一个逗号，否则()就不是代表元组的字面量语法，\n",
    "# 而是改变运算优先级的圆括号，所以('hello', )和(100, )才是一元组，\n",
    "# 而('hello')和(100)只是字符串和整数。\n",
    "tuple1 =(30,30,30,3)\n",
    "int1 = (20)\n",
    "tuple2 = (20,)\n",
    "print(type(tuple1),type(int1),type(tuple2))"
   ]
  },
  {
   "cell_type": "code",
   "execution_count": 27,
   "id": "8052c015-9912-4975-b1b3-c14ac72094c4",
   "metadata": {},
   "outputs": [
    {
     "name": "stdout",
     "output_type": "stream",
     "text": [
      "<class 'tuple'> (1, 12, 23)\n",
      "1 12 23\n"
     ]
    }
   ],
   "source": [
    "a = 1,12,23\n",
    "print(type(a),a)\n",
    "i,j,k = a\n",
    "print(i,j,k)"
   ]
  },
  {
   "cell_type": "code",
   "execution_count": 28,
   "id": "dd4e8e2e-72cd-432d-959c-83bb5dc581a8",
   "metadata": {},
   "outputs": [
    {
     "name": "stdout",
     "output_type": "stream",
     "text": [
      "1 10 [100, 1000]\n",
      "1 [10, 100] 1000\n",
      "[1, 10] 100 1000\n",
      "[1, 10, 100] 1000\n",
      "1 [10, 100, 1000]\n",
      "1 10 100 [1000]\n",
      "1 10 100 1000 []\n"
     ]
    }
   ],
   "source": [
    "a = 1, 10, 100, 1000\n",
    "i, j, *k = a\n",
    "print(i, j, k)          # 1 10 [100, 1000]\n",
    "i, *j, k = a\n",
    "print(i, j, k)          # 1 [10, 100] 1000\n",
    "*i, j, k = a\n",
    "print(i, j, k)          # [1, 10] 100 1000\n",
    "*i, j = a\n",
    "print(i, j)             # [1, 10, 100] 1000\n",
    "i, *j = a\n",
    "print(i, j)             # 1 [10, 100, 1000]\n",
    "i, j, k, *l = a\n",
    "print(i, j, k, l)       # 1 10 100 [1000]\n",
    "i, j, k, l, *m = a\n",
    "print(i, j, k, l, m)    # 1 10 100 1000 []"
   ]
  },
  {
   "cell_type": "code",
   "execution_count": 31,
   "id": "76b59dcf-ef35-4e65-9641-e4c55822e9c9",
   "metadata": {},
   "outputs": [
    {
     "name": "stdout",
     "output_type": "stream",
     "text": [
      "1 2 [3, 4, 5, 6, 7, 8, 9]\n",
      "h ['e', 'l', 'l'] o\n"
     ]
    }
   ],
   "source": [
    "a,b,*c = range(1,10)\n",
    "print(a,b,c)\n",
    "a,*b,c = 'hello'\n",
    "print(a,b,c)"
   ]
  },
  {
   "cell_type": "raw",
   "id": "f0998657-27f7-40fc-aa4c-9503c62522c7",
   "metadata": {},
   "source": [
    "交换两个变量的值是编程语言中的一个经典案例，在很多编程语言中，交换两个变量的值都需要借助一个中间变量才能做到，如果不用中间变量就需要使用比较晦涩的位运算来实现。在Python中，交换两个变量a和b的值只需要使用如下所示的代码。"
   ]
  },
  {
   "cell_type": "code",
   "execution_count": 34,
   "id": "1142f302-eba0-492d-b31b-4670813316b9",
   "metadata": {},
   "outputs": [
    {
     "name": "stdout",
     "output_type": "stream",
     "text": [
      "10 100\n",
      "100 10\n",
      "100 10 1000\n",
      "1000 100 10\n",
      "1000 1000 1000\n"
     ]
    }
   ],
   "source": [
    "a = 10\n",
    "b = 100\n",
    "print(a,b)\n",
    "a,b = b,a\n",
    "print(a,b)\n",
    "c = 1000\n",
    "print(a,b,c)\n",
    "a,b,c = c,a,b\n",
    "print(a,b,c)\n",
    "a,b,c = a,a,a\n",
    "print(a,b,c)"
   ]
  },
  {
   "cell_type": "code",
   "execution_count": 37,
   "id": "58262336-91f7-4745-bfab-94df353e2d00",
   "metadata": {},
   "outputs": [
    {
     "name": "stdout",
     "output_type": "stream",
     "text": [
      "(1, '2', 3, 4)\n",
      "[1, '222', 1212, 12]\n"
     ]
    }
   ],
   "source": [
    "info = [1,'2',3,4]\n",
    "print(tuple(info))\n",
    "tuple1 = (1,'222',1212,12)\n",
    "print(list(tuple1))"
   ]
  },
  {
   "cell_type": "raw",
   "id": "21f74828-3246-41c3-a8fc-562131c20c16",
   "metadata": {},
   "source": [
    "列表和元组都是容器型的数据类型，即一个变量可以保存多个数据。列表是可变数据类型，元组是不可变数据类型，所以列表添加元素、删除元素、清空、排序等方法对于元组来说是不成立的。但是列表和元组都可以进行拼接、成员运算、索引和切片这些操作"
   ]
  },
  {
   "cell_type": "code",
   "execution_count": 38,
   "id": "ba755a95-7db8-488d-9155-3fe075d73dfb",
   "metadata": {},
   "outputs": [
    {
     "name": "stdout",
     "output_type": "stream",
     "text": [
      "\n",
      "三个双引号，或者单引号的字符串可以\n",
      "换行\n",
      "\n"
     ]
    }
   ],
   "source": [
    "str = '''\n",
    "三个双引号，或者单引号的字符串可以\n",
    "换行\n",
    "'''\n",
    "print(str)"
   ]
  },
  {
   "cell_type": "raw",
   "id": "d8da26e1-dc7d-4ba2-9072-0a4dcd217d06",
   "metadata": {},
   "source": [
    "字符串可以r或R开头，这种字符串被称为原始字符串，意思是字符串中的每个字符都是它本来的含义，没有所谓的转义字符"
   ]
  },
  {
   "cell_type": "code",
   "execution_count": 39,
   "id": "4c5b807b-fb2d-45a2-961c-99fe7736591b",
   "metadata": {},
   "outputs": [
    {
     "name": "stdout",
     "output_type": "stream",
     "text": [
      "sddsdsd\\t\\t\\t\\n\n"
     ]
    }
   ],
   "source": [
    "s = r'sddsdsd\\t\\t\\t\\n'\n",
    "print(s)"
   ]
  },
  {
   "cell_type": "code",
   "execution_count": 60,
   "id": "09c1e010-d1a5-4d48-b405-a1b14f3f8d76",
   "metadata": {},
   "outputs": [
    {
     "name": "stdout",
     "output_type": "stream",
     "text": [
      "3.14\n",
      "+3.14\n",
      "-3.12\n",
      "3\n",
      "0000000012\n",
      "2100000000\n",
      "        12\n",
      "12        \n",
      "12,312,312,313\n",
      "1212.31%\n",
      "1.21e+07\n"
     ]
    }
   ],
   "source": [
    "print('{:.2f}'.format(3.1415926)) # 保留小数点后两位\n",
    "print('{:+.2f}'.format(3.1415926)) # 带符号保留小数点后两位\n",
    "print('{:+.2f}'.format(-3.1224))\n",
    "print('{:.0f}'.format(3.1231321))\n",
    "print('{:0>10d}'.format(12))      # 左边补0，补够10位\n",
    "print('{:0<10d}'.format(21))      # 右边补0，补够10位\n",
    "print('{:>10d}'.format(12))       # 左边补空格，补够10位\n",
    "print('{:<10d}'.format(12))       # 右边补空格，补够10位\n",
    "print('{:,}'.format(12312312313)) # 逗号分隔格式\n",
    "print('{:.2%}'.format(12.123123))  # 百分比格式\n",
    "print('{:.2e}'.format(12121212))   # 科学计数法格式"
   ]
  },
  {
   "cell_type": "code",
   "execution_count": 64,
   "id": "e47bf1ce-c6a0-4a59-ac51-8a523b92d6a3",
   "metadata": {},
   "outputs": [
    {
     "name": "stdout",
     "output_type": "stream",
     "text": [
      "{121, 1212, 12, 22}\n",
      "{'e', 'l', 'h', ';', 'o'}\n",
      "{1, 2, 21, 22}\n",
      "{75, 45, 15, 90, 60, 30}\n"
     ]
    }
   ],
   "source": [
    "set1 ={12,22,22,12,121,1212}\n",
    "print(set1)\n",
    "set2 = set('hellol;')\n",
    "print(set2)\n",
    "set3 = set([1,2,2,22,21,21,2])\n",
    "print(set3)\n",
    "set4 = {num for num in range(1,100) if num%5 ==0 and num% 3 == 0}\n",
    "print(set4)"
   ]
  },
  {
   "cell_type": "raw",
   "id": "d81e6704-7831-4752-87fc-987ac5167572",
   "metadata": {},
   "source": [
    "需要提醒大家，集合中的元素必须是hashable类型。所谓hashable类型指的是能够计算出哈希码的数据类型，大家可以暂时将哈希码理解为和变量对应的唯一的ID值。通常不可变类型都是hashable类型，如整数、浮点、字符串、元组等，而可变类型都不是hashable类型，因为可变类型无法确定唯一的ID值，所以也就不能放到集合中。集合本身也是可变类型，所以集合不能够作为集合中的元素，这一点在使用集合的时候一定要注意。"
   ]
  },
  {
   "cell_type": "code",
   "execution_count": 65,
   "id": "c257a949-97e1-4f13-9166-928d086c3560",
   "metadata": {},
   "outputs": [
    {
     "name": "stdout",
     "output_type": "stream",
     "text": [
      "False\n"
     ]
    }
   ],
   "source": [
    "set1 = {11,223,23,24,1}\n",
    "print(12 in set1)"
   ]
  },
  {
   "cell_type": "code",
   "execution_count": 68,
   "id": "c463ecd4-0dd6-4981-87a5-a9b0b72ecbb5",
   "metadata": {},
   "outputs": [
    {
     "name": "stdout",
     "output_type": "stream",
     "text": [
      "{2, 4, 6}\n",
      "{1, 2, 3, 4, 5, 6, 7, 8, 10}\n",
      "{1, 3, 5, 7}\n",
      "{1, 3, 5, 7, 8, 10}\n",
      "{1, 3, 5, 7, 8, 10}\n",
      "{1, 2, 3, 4, 5, 6, 7, 8, 10}\n"
     ]
    }
   ],
   "source": [
    "set2 = {1,2,3,4,5,6,7}\n",
    "set3 = {2,4,6,8,10}\n",
    "print(set2 & set3)\n",
    "print(set2 | set3)\n",
    "print(set2 - set3)\n",
    "print(set2 ^ set3) # 对称差相当于两个集合的并集减去交集\n",
    "print((set2 | set3)-(set2 & set3))\n",
    "\n",
    "set2 |= set3\n",
    "print(set2)"
   ]
  },
  {
   "cell_type": "code",
   "execution_count": 75,
   "id": "7d913b93-bd92-4222-b9e3-5504a166744c",
   "metadata": {},
   "outputs": [
    {
     "name": "stdout",
     "output_type": "stream",
     "text": [
      "{330, 21}\n",
      "{485, 330, 45, 21, 22, 56, 123}\n",
      "{485, 330, 45, 21, 56, 123}\n",
      "{330, 45, 21, 56, 123}\n",
      "set()\n"
     ]
    }
   ],
   "source": [
    "set1 = set()\n",
    "set1.add(330)\n",
    "set1.add(21)\n",
    "print(set1)\n",
    "set1.update({22,21,330,123,485,45,56})\n",
    "print(set1)\n",
    "set1.discard(22)\n",
    "print(set1)\n",
    "set1.pop() # 随机删除\n",
    "print(set1)\n",
    "set1.clear()\n",
    "print(set1)"
   ]
  },
  {
   "cell_type": "code",
   "execution_count": 78,
   "id": "dd2fe394-91a2-4bd0-8fef-ef5ab963a7a7",
   "metadata": {},
   "outputs": [
    {
     "name": "stdout",
     "output_type": "stream",
     "text": [
      "{'name': 'kobe', 'age': 41, 'weight': 190, 'home': 'usa'}\n",
      "{'a': 'a', 'b': 's', 'c': 'a', 'd': 's'}\n",
      "{1: 1, 2: 8, 3: 27, 4: 64, 5: 125, 6: 216, 7: 343, 8: 512}\n"
     ]
    }
   ],
   "source": [
    "person = dict(name='kobe',age=41,weight=190,home='usa')\n",
    "print(person)\n",
    "it = dict(zip('abcd','asass'))\n",
    "print(it)\n",
    "it = {x: x**3 for x in range(1,9)}\n",
    "print(it)"
   ]
  },
  {
   "cell_type": "code",
   "execution_count": 82,
   "id": "f5941060-09ff-4e91-94e5-16cd22e82338",
   "metadata": {},
   "outputs": [
    {
     "name": "stdout",
     "output_type": "stream",
     "text": [
      "dict_keys([1001, 1002, 1003])\n",
      "dict_values([{'name': '狄仁杰', 'sex': True, 'age': 22, 'place': '山西大同'}, {'name': '白元芳', 'sex': True, 'age': 23, 'place': '河北保定'}, {'name': '武则天', 'sex': False, 'age': 20, 'place': '四川广元'}])\n",
      "dict_items([(1001, {'name': '狄仁杰', 'sex': True, 'age': 22, 'place': '山西大同'}), (1002, {'name': '白元芳', 'sex': True, 'age': 23, 'place': '河北保定'}), (1003, {'name': '武则天', 'sex': False, 'age': 20, 'place': '四川广元'})])\n",
      "1001 =====> {'name': '狄仁杰', 'sex': True, 'age': 22, 'place': '山西大同'}\n",
      "1002 =====> {'name': '白元芳', 'sex': True, 'age': 23, 'place': '河北保定'}\n",
      "1003 =====> {'name': '武则天', 'sex': False, 'age': 20, 'place': '四川广元'}\n"
     ]
    }
   ],
   "source": [
    "students = {\n",
    "    1001: {'name': '狄仁杰', 'sex': True, 'age': 22, 'place': '山西大同'},\n",
    "    1002: {'name': '白元芳', 'sex': True, 'age': 23, 'place': '河北保定'},\n",
    "    1003: {'name': '武则天', 'sex': False, 'age': 20, 'place': '四川广元'}\n",
    "}\n",
    "print(students.keys())\n",
    "print(students.values())\n",
    "print(students.items())\n",
    "for key,values in students.items():\n",
    "    print(key,'=====>',values)"
   ]
  },
  {
   "cell_type": "code",
   "execution_count": null,
   "id": "9b6f2ff1-8be0-4806-996d-fd1f8bf814b7",
   "metadata": {},
   "outputs": [],
   "source": []
  },
  {
   "cell_type": "code",
   "execution_count": null,
   "id": "113a6519-35fa-4d03-9c35-33db5d703160",
   "metadata": {},
   "outputs": [],
   "source": []
  },
  {
   "cell_type": "code",
   "execution_count": null,
   "id": "a00d714c-6c23-47d8-b6b9-201a99e5b997",
   "metadata": {},
   "outputs": [],
   "source": []
  },
  {
   "cell_type": "code",
   "execution_count": null,
   "id": "644057ee-a436-4dbd-adef-5a9a4276abb4",
   "metadata": {},
   "outputs": [],
   "source": []
  },
  {
   "cell_type": "code",
   "execution_count": null,
   "id": "4863007d-ee48-4df4-92df-8514d2556e5c",
   "metadata": {},
   "outputs": [],
   "source": []
  },
  {
   "cell_type": "code",
   "execution_count": null,
   "id": "a20a021f-d70a-4905-9996-93360a6e567d",
   "metadata": {},
   "outputs": [],
   "source": []
  },
  {
   "cell_type": "code",
   "execution_count": null,
   "id": "33eaf524-465f-406a-8b5e-e08a481b05d5",
   "metadata": {},
   "outputs": [],
   "source": []
  },
  {
   "cell_type": "code",
   "execution_count": null,
   "id": "ba578c97-2474-48fa-8b44-f5ccde90a408",
   "metadata": {},
   "outputs": [],
   "source": []
  },
  {
   "cell_type": "code",
   "execution_count": null,
   "id": "74156163-4b61-4bd1-90c3-dbbb8c6d634d",
   "metadata": {},
   "outputs": [],
   "source": []
  }
 ],
 "metadata": {
  "kernelspec": {
   "display_name": "basic",
   "language": "python",
   "name": "basic"
  },
  "language_info": {
   "codemirror_mode": {
    "name": "ipython",
    "version": 3
   },
   "file_extension": ".py",
   "mimetype": "text/x-python",
   "name": "python",
   "nbconvert_exporter": "python",
   "pygments_lexer": "ipython3",
   "version": "3.8.20"
  }
 },
 "nbformat": 4,
 "nbformat_minor": 5
}
